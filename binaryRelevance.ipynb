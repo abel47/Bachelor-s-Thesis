{
 "cells": [
  {
   "cell_type": "code",
   "execution_count": 40,
   "metadata": {},
   "outputs": [],
   "source": [
    "import pandas as pd\n",
    "import numpy as np\n",
    "\n",
    "from skmultilearn.problem_transform import BinaryRelevance\n",
    "from sklearn.svm import SVC\n",
    "\n",
    "from sklearn.feature_selection import SelectKBest\n",
    "from sklearn.feature_selection import chi2\n",
    "from sklearn.feature_selection import GenericUnivariateSelect\n",
    "\n",
    "from sklearn.datasets import make_multilabel_classification\n",
    "from sklearn.metrics import accuracy_score\n",
    "from sklearn.model_selection import train_test_split\n",
    "\n",
    "from scipy import sparse"
   ]
  },
  {
   "cell_type": "code",
   "execution_count": 30,
   "metadata": {},
   "outputs": [],
   "source": [
    "class MyBinaryRelevanceFeatureSelect():\n",
    "   \n",
    "    def fit(self, X, y):\n",
    "        \n",
    "        # I'm using a gaussian naive bayes base classifier\n",
    "        self.BinaryRelevanceObject = BinaryRelevance(classifier = SVC(gamma= 'auto'), require_dense = [True, True])\n",
    "        \n",
    "        # fitting the data\n",
    "        self.BinaryRelevanceObject.fit(X, y)\n",
    "        \n",
    "        #the classifiers for each label\n",
    "        self.classifiers = self.BinaryRelevanceObject.classifiers_\n",
    "\n",
    "        return self.classifiers\n",
    "        \n",
    "#     def partition(self):\n",
    "#         return self.BinaryRelevanceObject.partition_#BinaryRelevanceObject\n",
    "    \n",
    "#     def model_count(self):\n",
    "#         return self.BinaryRelevanceObject.model_count_\n",
    "\n",
    "    def predict(self, X, y=None):\n",
    "        return self.BinaryRelevanceObject.predict(X)\n",
    "    \n",
    "#     def feature_select(self, X, y):\n",
    "        \n",
    "#         #features_selected = []\n",
    "\n",
    "# #         X_new = SelectKBest(chi2, k=2)\n",
    "\n",
    "# #         # the feature selecting\n",
    "# #         X_new.fit(X, y)\n",
    "\n",
    "# #         # save indices of the saved attributes\n",
    "# #         selected_attributes_indices = X_new.get_support(indices = True)\n",
    "        \n",
    "#         transformer = GenericUnivariateSelect(chi2, 'k_best', param=2)\n",
    "#         X_new = transformer.fit_transform(X, y)\n",
    "#         #X_new.shape\n",
    "#         selected_attributes_indices = transformer.get_support(indices = True)\n",
    "        \n",
    "#         return selected_attributes_indices\n",
    "    \n",
    "    def feature_select(self, X, y, transformer):\n",
    "        \n",
    "        #transformer = SelectKBest(chi2, k=2)\n",
    "        transformer.fit(X, y)\n",
    "        selected_attributes_indices = transformer.get_support(indices = True)\n",
    "        \n",
    "        return selected_attributes_indices\n",
    "    \n",
    "    def sets_of_selected_features(self, X, predictions, classifier, transformer ): #X is the df with the predictions\n",
    "        selected_features_array = []\n",
    "\n",
    "        for i in predictions:\n",
    "            indices_features_selected = clf.feature_select(X, predictions[i], transformer)\n",
    "            selected_features_array.append(indices_features_selected)\n",
    "    \n",
    "        return selected_features_array"
   ]
  },
  {
   "cell_type": "code",
   "execution_count": 45,
   "metadata": {},
   "outputs": [],
   "source": [
    "#making the dataset\n",
    "X, y = make_multilabel_classification(n_classes=6, n_labels=2,sparse = True, allow_unlabeled=False, random_state=1)\n",
    "\n",
    "#split in training and test data\n",
    "X_train, X_test, y_train, y_test = train_test_split(X, y, test_size=0.33)\n",
    "\n",
    "#intializing wit the classifier class\n",
    "clf = MyBinaryRelevanceFeatureSelect()\n",
    "\n",
    "#fitting the data for training\n",
    "clf.fit(X_train, y_train)\n",
    "\n",
    "#sparse matrix\n",
    "predictions = clf.predict(X_test)\n",
    "\n",
    "#make a dataframe\n",
    "x = pd.DataFrame(predictions.toarray())\n",
    "\n",
    "\n",
    "#the feature selection\n",
    "#x = clf.feature_select1(X_test,x[0],GenericUnivariateSelect(chi2, 'k_best', param=4))\n",
    "#SelectKBest(chi2, k=5)\n",
    "xx = clf.feature_select(X_test,x[0],SelectKBest(chi2, k=3))#[:]#array([ 1,  6, 14, 16, 19], dtype=int64)"
   ]
  },
  {
   "cell_type": "code",
   "execution_count": 46,
   "metadata": {},
   "outputs": [
    {
     "data": {
      "text/plain": [
       "[array([10, 15, 19], dtype=int64),\n",
       " array([17, 18, 19], dtype=int64),\n",
       " array([17, 18, 19], dtype=int64),\n",
       " array([ 3, 14, 19], dtype=int64),\n",
       " array([17, 18, 19], dtype=int64),\n",
       " array([17, 18, 19], dtype=int64)]"
      ]
     },
     "execution_count": 46,
     "metadata": {},
     "output_type": "execute_result"
    }
   ],
   "source": [
    "arr = clf.sets_of_selected_features(X_test,x,clf,SelectKBest(chi2, k=3))\n",
    "arr"
   ]
  },
  {
   "cell_type": "code",
   "execution_count": 51,
   "metadata": {},
   "outputs": [
    {
     "name": "stdout",
     "output_type": "stream",
     "text": [
      "{19}\n",
      "{3, 10, 14, 15, 17, 18, 19}\n",
      "set()\n",
      "None\n"
     ]
    }
   ],
   "source": [
    "#type(x[0])\n",
    "\n",
    "# np.intersect1d(x)\n",
    "print(set(arr[0]).intersection(*arr))\n",
    "print(set(arr[0]).union(*arr))\n",
    "print(set(arr[0]).difference(*arr))\n",
    "print(set(arr[0]).difference_update(*arr))\n",
    "\n",
    "\n",
    "# for i in x:\n",
    "#     print(i)"
   ]
  },
  {
   "cell_type": "code",
   "execution_count": 16,
   "metadata": {},
   "outputs": [
    {
     "data": {
      "text/plain": [
       "[array([ 5, 16], dtype=int64),\n",
       " array([18, 19], dtype=int64),\n",
       " array([18, 19], dtype=int64),\n",
       " array([ 7, 19], dtype=int64),\n",
       " array([11, 19], dtype=int64),\n",
       " array([18, 19], dtype=int64)]"
      ]
     },
     "execution_count": 16,
     "metadata": {},
     "output_type": "execute_result"
    }
   ],
   "source": [
    "feature_vector = []\n",
    "\n",
    "for i in x:\n",
    "    xx = clf.feature_select(X_test,x[i],SelectKBest(chi2, k=2))\n",
    "    feature_vector.append(xx)\n",
    "    \n",
    "feature_vector\n",
    "# while i < len(x):\n",
    "#     print(x[i])\n",
    "#     i = i + 1\n",
    "\n",
    "# i = 0\n",
    "# for i in range(0,len(x)):\n",
    "#     print(x[i])\n",
    "\n",
    "# for i in xx:\n",
    "#     print\n",
    "\n",
    "# for i in x:\n",
    "#     print(i)"
   ]
  },
  {
   "cell_type": "code",
   "execution_count": 17,
   "metadata": {},
   "outputs": [
    {
     "data": {
      "text/plain": [
       "[array([ 5, 16], dtype=int64),\n",
       " array([18, 19], dtype=int64),\n",
       " array([18, 19], dtype=int64),\n",
       " array([ 7, 19], dtype=int64),\n",
       " array([11, 19], dtype=int64),\n",
       " array([18, 19], dtype=int64)]"
      ]
     },
     "execution_count": 17,
     "metadata": {},
     "output_type": "execute_result"
    }
   ],
   "source": [
    "feature_vector = []\n",
    "\n",
    "for i in x:\n",
    "    xx = clf.feature_select(X_test,x[i],GenericUnivariateSelect(chi2, 'k_best', param=2))\n",
    "    feature_vector.append(xx)\n",
    "    \n",
    "feature_vector"
   ]
  },
  {
   "cell_type": "code",
   "execution_count": 122,
   "metadata": {},
   "outputs": [
    {
     "name": "stderr",
     "output_type": "stream",
     "text": [
      "C:\\Users\\Abel\\AppData\\Local\\Continuum\\anaconda3\\lib\\site-packages\\sklearn\\svm\\base.py:196: FutureWarning: The default value of gamma will change from 'auto' to 'scale' in version 0.22 to account better for unscaled features. Set gamma explicitly to 'auto' or 'scale' to avoid this warning.\n",
      "  \"avoid this warning.\", FutureWarning)\n"
     ]
    }
   ],
   "source": [
    "from skmultilearn.problem_transform import BinaryRelevance\n",
    "from sklearn.svm import SVC\n",
    "\n",
    "        # initialize Binary Relevance multi-label classifier\n",
    "        # with an SVM classifier\n",
    "        # SVM in scikit only supports the X matrix in sparse representation\n",
    "\n",
    "classifier = BinaryRelevance(\n",
    "            classifier = SVC(),\n",
    "            require_dense = [False, True]\n",
    "        )\n",
    "\n",
    "        # train\n",
    "classifier.fit(X_train, y_train)\n",
    "\n",
    "        # predict\n",
    "predictions = classifier.predict(X_test)"
   ]
  },
  {
   "cell_type": "code",
   "execution_count": 215,
   "metadata": {
    "collapsed": true
   },
   "outputs": [
    {
     "data": {
      "text/html": [
       "<div>\n",
       "<style scoped>\n",
       "    .dataframe tbody tr th:only-of-type {\n",
       "        vertical-align: middle;\n",
       "    }\n",
       "\n",
       "    .dataframe tbody tr th {\n",
       "        vertical-align: top;\n",
       "    }\n",
       "\n",
       "    .dataframe thead th {\n",
       "        text-align: right;\n",
       "    }\n",
       "</style>\n",
       "<table border=\"1\" class=\"dataframe\">\n",
       "  <thead>\n",
       "    <tr style=\"text-align: right;\">\n",
       "      <th></th>\n",
       "      <th>0</th>\n",
       "      <th>1</th>\n",
       "      <th>2</th>\n",
       "      <th>3</th>\n",
       "    </tr>\n",
       "  </thead>\n",
       "  <tbody>\n",
       "    <tr>\n",
       "      <th>0</th>\n",
       "      <td>1</td>\n",
       "      <td>1</td>\n",
       "      <td>0</td>\n",
       "      <td>1</td>\n",
       "    </tr>\n",
       "    <tr>\n",
       "      <th>1</th>\n",
       "      <td>1</td>\n",
       "      <td>1</td>\n",
       "      <td>0</td>\n",
       "      <td>1</td>\n",
       "    </tr>\n",
       "    <tr>\n",
       "      <th>2</th>\n",
       "      <td>1</td>\n",
       "      <td>1</td>\n",
       "      <td>0</td>\n",
       "      <td>1</td>\n",
       "    </tr>\n",
       "    <tr>\n",
       "      <th>3</th>\n",
       "      <td>1</td>\n",
       "      <td>1</td>\n",
       "      <td>0</td>\n",
       "      <td>1</td>\n",
       "    </tr>\n",
       "    <tr>\n",
       "      <th>4</th>\n",
       "      <td>1</td>\n",
       "      <td>1</td>\n",
       "      <td>0</td>\n",
       "      <td>0</td>\n",
       "    </tr>\n",
       "  </tbody>\n",
       "</table>\n",
       "</div>"
      ],
      "text/plain": [
       "   0  1  2  3\n",
       "0  1  1  0  1\n",
       "1  1  1  0  1\n",
       "2  1  1  0  1\n",
       "3  1  1  0  1\n",
       "4  1  1  0  0"
      ]
     },
     "execution_count": 215,
     "metadata": {},
     "output_type": "execute_result"
    }
   ],
   "source": [
    "pd.DataFrame(predictions.toarray()).head()"
   ]
  },
  {
   "cell_type": "code",
   "execution_count": 216,
   "metadata": {
    "collapsed": true
   },
   "outputs": [
    {
     "data": {
      "text/html": [
       "<div>\n",
       "<style scoped>\n",
       "    .dataframe tbody tr th:only-of-type {\n",
       "        vertical-align: middle;\n",
       "    }\n",
       "\n",
       "    .dataframe tbody tr th {\n",
       "        vertical-align: top;\n",
       "    }\n",
       "\n",
       "    .dataframe thead th {\n",
       "        text-align: right;\n",
       "    }\n",
       "</style>\n",
       "<table border=\"1\" class=\"dataframe\">\n",
       "  <thead>\n",
       "    <tr style=\"text-align: right;\">\n",
       "      <th></th>\n",
       "      <th>0</th>\n",
       "      <th>1</th>\n",
       "      <th>2</th>\n",
       "      <th>3</th>\n",
       "    </tr>\n",
       "  </thead>\n",
       "  <tbody>\n",
       "    <tr>\n",
       "      <th>0</th>\n",
       "      <td>1</td>\n",
       "      <td>0</td>\n",
       "      <td>0</td>\n",
       "      <td>0</td>\n",
       "    </tr>\n",
       "    <tr>\n",
       "      <th>1</th>\n",
       "      <td>0</td>\n",
       "      <td>1</td>\n",
       "      <td>0</td>\n",
       "      <td>0</td>\n",
       "    </tr>\n",
       "    <tr>\n",
       "      <th>2</th>\n",
       "      <td>1</td>\n",
       "      <td>1</td>\n",
       "      <td>1</td>\n",
       "      <td>1</td>\n",
       "    </tr>\n",
       "    <tr>\n",
       "      <th>3</th>\n",
       "      <td>0</td>\n",
       "      <td>1</td>\n",
       "      <td>0</td>\n",
       "      <td>0</td>\n",
       "    </tr>\n",
       "    <tr>\n",
       "      <th>4</th>\n",
       "      <td>0</td>\n",
       "      <td>1</td>\n",
       "      <td>0</td>\n",
       "      <td>0</td>\n",
       "    </tr>\n",
       "  </tbody>\n",
       "</table>\n",
       "</div>"
      ],
      "text/plain": [
       "   0  1  2  3\n",
       "0  1  0  0  0\n",
       "1  0  1  0  0\n",
       "2  1  1  1  1\n",
       "3  0  1  0  0\n",
       "4  0  1  0  0"
      ]
     },
     "execution_count": 216,
     "metadata": {},
     "output_type": "execute_result"
    }
   ],
   "source": [
    "pd.DataFrame(y_train).head()"
   ]
  },
  {
   "cell_type": "code",
   "execution_count": 20,
   "metadata": {},
   "outputs": [
    {
     "name": "stdout",
     "output_type": "stream",
     "text": [
      "(150, 4)\n",
      "(150,)\n",
      "(150, 3)\n"
     ]
    },
    {
     "name": "stderr",
     "output_type": "stream",
     "text": [
      "C:\\Users\\Abel\\AppData\\Local\\Continuum\\anaconda3\\lib\\site-packages\\sklearn\\svm\\base.py:931: ConvergenceWarning: Liblinear failed to converge, increase the number of iterations.\n",
      "  \"the number of iterations.\", ConvergenceWarning)\n"
     ]
    }
   ],
   "source": [
    "from sklearn.svm import LinearSVC\n",
    "from sklearn.datasets import load_iris\n",
    "from sklearn.feature_selection import SelectFromModel\n",
    "iris = load_iris()\n",
    "X, y = iris.data, iris.target\n",
    "print(X.shape)\n",
    "print(y.shape)\n",
    "\n",
    "\n",
    "lsvc = LinearSVC(C=0.01, penalty=\"l1\", dual=False).fit(X, y)\n",
    "model = SelectFromModel(lsvc, prefit=True)\n",
    "X_new = model.transform(X)\n",
    "print(X_new.shape)"
   ]
  },
  {
   "cell_type": "code",
   "execution_count": 40,
   "metadata": {},
   "outputs": [
    {
     "data": {
      "text/plain": [
       "array([33, 34, 42, 43, 54], dtype=int64)"
      ]
     },
     "execution_count": 40,
     "metadata": {},
     "output_type": "execute_result"
    }
   ],
   "source": [
    "from sklearn.datasets import load_digits\n",
    "from sklearn.feature_selection import SelectKBest, chi2\n",
    "X, y = load_digits(return_X_y=True)\n",
    "X.shape\n",
    "\n",
    "transformer = SelectKBest(chi2, k=5)\n",
    "transformer.fit(X, y)\n",
    "#X_new.shape\n",
    "transformer.get_support(indices = True)"
   ]
  },
  {
   "cell_type": "code",
   "execution_count": null,
   "metadata": {},
   "outputs": [],
   "source": []
  }
 ],
 "metadata": {
  "kernelspec": {
   "display_name": "Python 3",
   "language": "python",
   "name": "python3"
  },
  "language_info": {
   "codemirror_mode": {
    "name": "ipython",
    "version": 3
   },
   "file_extension": ".py",
   "mimetype": "text/x-python",
   "name": "python",
   "nbconvert_exporter": "python",
   "pygments_lexer": "ipython3",
   "version": "3.6.7"
  }
 },
 "nbformat": 4,
 "nbformat_minor": 2
}
