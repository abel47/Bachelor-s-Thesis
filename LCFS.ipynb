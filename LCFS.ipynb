{
 "cells": [
  {
   "cell_type": "code",
   "execution_count": null,
   "metadata": {},
   "outputs": [],
   "source": [
    "from skmultilearn.problem_transform import BinaryRelevance\n",
    "from sklearn.svm import SVC"
   ]
  },
  {
   "cell_type": "code",
   "execution_count": null,
   "metadata": {},
   "outputs": [],
   "source": [
    "from skmultilearn.problem_transform import BinaryRelevance\n",
    "from sklearn.svm import SVC\n",
    "#from sklearn.base import ProblemTransformationBase\n",
    "\n",
    "\n",
    "class MyLCFS():\n",
    "   \n",
    "    def fit(self, X, y):\n",
    "        \n",
    "        # I'm using a gaussian naive bayes base classifier\n",
    "        self.BinaryRelevanceObject = BinaryRelevance(classifier = SVC(gamma= 'auto', probability=True), require_dense = [True, True])\n",
    "        #self.BinaryRelevanceObject = BinaryRelevance()\n",
    "\n",
    "        # fitting the data\n",
    "        self.BinaryRelevanceObject.fit(X, y)\n",
    "        \n",
    "        #the classifiers for each label\n",
    "        self.classifiers = self.BinaryRelevanceObject.classifiers_\n",
    "\n",
    "        return self.BinaryRelevanceObject.fit(X, y)\n",
    "        \n",
    "#     def partition(self):\n",
    "#         return self.BinaryRelevanceObject.partition_#BinaryRelevanceObject\n",
    "    \n",
    "#     def model_count(self):\n",
    "#         return self.BinaryRelevanceObject.model_count_\n",
    "\n",
    "    def predict(self, X, y=None):\n",
    "        return self.BinaryRelevanceObject.predict(X)\n",
    "\n",
    "    def predict_proba(self, X):\n",
    "        return self.BinaryRelevanceObject.predict_proba(X)    "
   ]
  },
  {
   "cell_type": "code",
   "execution_count": null,
   "metadata": {},
   "outputs": [],
   "source": []
  }
 ],
 "metadata": {
  "kernelspec": {
   "display_name": "Python 3",
   "language": "python",
   "name": "python3"
  },
  "language_info": {
   "codemirror_mode": {
    "name": "ipython",
    "version": 3
   },
   "file_extension": ".py",
   "mimetype": "text/x-python",
   "name": "python",
   "nbconvert_exporter": "python",
   "pygments_lexer": "ipython3",
   "version": "3.6.7"
  }
 },
 "nbformat": 4,
 "nbformat_minor": 2
}
