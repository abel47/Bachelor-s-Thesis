{
 "cells": [
  {
   "cell_type": "code",
   "execution_count": 16,
   "metadata": {},
   "outputs": [],
   "source": [
    "#import work.MyLabelPowerSetFeatureSelect \n",
    "#from MyLabelPowerSetFeatureSelect import MyLabelPowerSetFeatureSelect\n",
    "\n",
    "from library.MyLabelPowerSetFeatureSelect import MyLabelPowerSetFeatureSelect\n",
    "\n",
    "\n",
    "from skmultilearn.problem_transform import LabelPowerset\n",
    "from sklearn.naive_bayes import GaussianNB\n",
    "from sklearn.feature_selection import SelectKBest\n",
    "from sklearn.feature_selection import chi2\n",
    "\n",
    "#from work import MyLabelPowerSetFeatureSelect\n",
    "\n",
    "from sklearn.model_selection import train_test_split\n",
    "\n",
    "\n",
    "import pandas as pd\n"
   ]
  },
  {
   "cell_type": "code",
   "execution_count": 17,
   "metadata": {},
   "outputs": [],
   "source": [
    "# class MyLabelPowerSetFeatureSelect():\n",
    "   \n",
    "#     def fit(self, X, y):\n",
    "        \n",
    "#         # I'm using a gaussian naive bayes base classifier\n",
    "#         self.LabelPowerSetObject = LabelPowerset(GaussianNB())\n",
    "        \n",
    "#         # fitting the data\n",
    "#         self.LabelPowerSetObject.fit(X, y)\n",
    "        \n",
    "#         # transformed y \n",
    "#         y_transformed  = self.LabelPowerSetObject.transform(y)\n",
    "        \n",
    "#         # instanciating with SelectKBest object\n",
    "#         self.X_new = SelectKBest(chi2, k=2)\n",
    "        \n",
    "#         # the feature selecting\n",
    "#         X_transformed = self.X_new.fit_transform(X, y_transformed)\n",
    "        \n",
    "#         # save indices of the saved attributes\n",
    "#         self.selected_attributes_indices = self.X_new.get_support(indices = True)\n",
    "        \n",
    "#         #print(self.attributes_indices,'the indices of the selected atributes')\n",
    "        \n",
    "#         return X_transformed\n",
    "        \n",
    "    \n",
    "#     def transform(self, X):    \n",
    "#         return X[:,self.selected_attributes_indices]\n",
    "    \n",
    "#     def predict(self, X):\n",
    "#         return self.LabelPowerSetObject.predict(X)\n",
    "    \n",
    "#     def predict_proba(self, X):\n",
    "#         return self.LabelPowerSetObject.predict_proba(X)"
   ]
  },
  {
   "cell_type": "code",
   "execution_count": 24,
   "metadata": {
    "scrolled": false
   },
   "outputs": [
    {
     "data": {
      "text/plain": [
       "<67x2 sparse matrix of type '<class 'numpy.float64'>'\n",
       "\twith 98 stored elements in Compressed Sparse Row format>"
      ]
     },
     "execution_count": 24,
     "metadata": {},
     "output_type": "execute_result"
    }
   ],
   "source": [
    "#tests\n",
    "from sklearn.datasets import make_multilabel_classification\n",
    "\n",
    "X, y = make_multilabel_classification(n_classes=4, n_labels=2,sparse = True, allow_unlabeled=False, random_state=1)\n",
    "\n",
    "X_train, X_test, y_train, y_test = train_test_split(X, y, test_size=0.33)\n",
    "\n",
    "\n",
    "clf = MyLabelPowerSetFeatureSelect()\n",
    "\n",
    "#my_object.fit(X,y).attributes_indices\n",
    "\n",
    "clf.fit(X_train, y_train)\n",
    "#pd.DataFrame(my_object.fit(X,y).toarray()).head()"
   ]
  },
  {
   "cell_type": "code",
   "execution_count": null,
   "metadata": {},
   "outputs": [],
   "source": []
  },
  {
   "cell_type": "code",
   "execution_count": 25,
   "metadata": {},
   "outputs": [],
   "source": [
    "predictions = clf.predict(X_test)"
   ]
  },
  {
   "cell_type": "code",
   "execution_count": 21,
   "metadata": {},
   "outputs": [
    {
     "data": {
      "text/plain": [
       "<33x4 sparse matrix of type '<class 'numpy.float64'>'\n",
       "\twith 132 stored elements in LInked List format>"
      ]
     },
     "execution_count": 21,
     "metadata": {},
     "output_type": "execute_result"
    }
   ],
   "source": [
    "clf.predict_proba(X_test)"
   ]
  },
  {
   "cell_type": "code",
   "execution_count": 26,
   "metadata": {},
   "outputs": [
    {
     "data": {
      "text/plain": [
       "0.20454545454545456"
      ]
     },
     "execution_count": 26,
     "metadata": {},
     "output_type": "execute_result"
    }
   ],
   "source": [
    "from sklearn.metrics import hamming_loss\n",
    "\n",
    "hamming_loss(y_test, predictions)"
   ]
  },
  {
   "cell_type": "code",
   "execution_count": null,
   "metadata": {},
   "outputs": [],
   "source": []
  }
 ],
 "metadata": {
  "kernelspec": {
   "display_name": "Python 3",
   "language": "python",
   "name": "python3"
  },
  "language_info": {
   "codemirror_mode": {
    "name": "ipython",
    "version": 3
   },
   "file_extension": ".py",
   "mimetype": "text/x-python",
   "name": "python",
   "nbconvert_exporter": "python",
   "pygments_lexer": "ipython3",
   "version": "3.6.7"
  }
 },
 "nbformat": 4,
 "nbformat_minor": 2
}
